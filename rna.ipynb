{
 "cells": [
  {
   "cell_type": "code",
   "execution_count": 2,
   "metadata": {},
   "outputs": [],
   "source": [
    "import numpy as np  # Biblioteca usada para cálculos numéricos e manipulação eficiente de arrays e matrizes\n",
    "import matplotlib.pyplot as plt  # módulo 'pyplot', que fornece funções para criar gráficos e visualizações"
   ]
  },
  {
   "cell_type": "code",
   "execution_count": 3,
   "metadata": {},
   "outputs": [],
   "source": [
    "plt.style.use(\"dark_background\")  # Define o estilo dos gráficos como \"dark_background\", ou seja, um fundo escuro com elementos do gráfico (linhas, texto) em cores claras\n",
    "plt.rcParams[\"figure.figsize\"] = (10, 8)  # Configura o tamanho padrão das figuras criadas, onde 10 representa a largura e 8 a altura (em polegadas)"
   ]
  },
  {
   "cell_type": "markdown",
   "metadata": {},
   "source": [
    "## Criar dataset\n",
    "- eixo y -> Temperatura em fahrenheit, variável dependente (a prever fahrenheit conforme celcius)\n",
    "- eixo x -> Temperatura em Celcius, variável independente"
   ]
  },
  {
   "cell_type": "code",
   "execution_count": 4,
   "metadata": {},
   "outputs": [],
   "source": [
    "# Função para gerar dados de celcius e fahrenheit\n",
    "# x = temperatura em celcius | w = Inclinação da reta (fator de conversão) | b = bias (intercepto ou deslocamento) | noise_scale = Escala do ruído aleatório\n",
    "def get_linear_curve(x, w, b=0, noise_scale=0):  # Função que calcula uma curva linear com base na equação da reta e adiciona ruído aleatório\n",
    "    return w*x + b + noise_scale*np.random.randn(x.shape[0]) # Retorna o valor da equação da reta: w (inclinação) * x (temperatura em Celsius) + b (intercepto) + noise_scale * np.random.randn(x.shape[0]) adiciona ruído aleatório de uma distribuição normal"
   ]
  },
  {
   "cell_type": "code",
   "execution_count": 5,
   "metadata": {},
   "outputs": [],
   "source": [
    "x = np.arange(-10, 30.1, 0.5)  # Gera um array 'x' de valores entre -10 e 30 com incrementos de 0,5. Esses valores representam temperaturas em Celsius.\n",
    "y = get_linear_curve(x, 1.8, 32, noise_scale=2.5)  # Aplica a função 'getLinearCurve' para calcular as temperaturas correspondentes em Fahrenheit, usando a fórmula: Fahrenheit = (Celsius × 1.8) + 32. inclinação de 1.8 e o bias de 32 e adiciona ruído aleatório com intensidade 2.5."
   ]
  },
  {
   "cell_type": "code",
   "execution_count": 6,
   "metadata": {},
   "outputs": [
    {
     "data": {
      "text/plain": [
       "((81,), (81,))"
      ]
     },
     "execution_count": 6,
     "metadata": {},
     "output_type": "execute_result"
    }
   ],
   "source": [
    "x.shape, y.shape # 81 valores de temperatura em Celsius e suas respectivas conversões para Fahrenheit"
   ]
  },
  {
   "cell_type": "code",
   "execution_count": 7,
   "metadata": {},
   "outputs": [
    {
     "data": {
      "text/plain": [
       "array([-10. ,  -9.5,  -9. ,  -8.5,  -8. ,  -7.5,  -7. ,  -6.5,  -6. ,\n",
       "        -5.5,  -5. ,  -4.5,  -4. ,  -3.5,  -3. ,  -2.5,  -2. ,  -1.5,\n",
       "        -1. ,  -0.5,   0. ,   0.5,   1. ,   1.5,   2. ,   2.5,   3. ,\n",
       "         3.5,   4. ,   4.5,   5. ,   5.5,   6. ,   6.5,   7. ,   7.5,\n",
       "         8. ,   8.5,   9. ,   9.5,  10. ,  10.5,  11. ,  11.5,  12. ,\n",
       "        12.5,  13. ,  13.5,  14. ,  14.5,  15. ,  15.5,  16. ,  16.5,\n",
       "        17. ,  17.5,  18. ,  18.5,  19. ,  19.5,  20. ,  20.5,  21. ,\n",
       "        21.5,  22. ,  22.5,  23. ,  23.5,  24. ,  24.5,  25. ,  25.5,\n",
       "        26. ,  26.5,  27. ,  27.5,  28. ,  28.5,  29. ,  29.5,  30. ])"
      ]
     },
     "execution_count": 7,
     "metadata": {},
     "output_type": "execute_result"
    }
   ],
   "source": [
    "# Contém temperaturas em Celsius, variando de -10 a 29.5 com um passo de 0.5\n",
    "x "
   ]
  },
  {
   "cell_type": "code",
   "execution_count": 8,
   "metadata": {},
   "outputs": [
    {
     "data": {
      "text/plain": [
       "array([15.73235935, 18.80594533, 15.89045137, 18.1708302 , 16.92952203,\n",
       "       15.60391686, 18.98674811, 24.09377447, 23.59529222, 20.20459298,\n",
       "       21.91091784, 21.77682692, 29.48948474, 22.96988507, 28.0213279 ,\n",
       "       30.68975782, 27.23635279, 29.43909664, 32.89056272, 30.67619401,\n",
       "       37.34435325, 29.52985379, 32.24292068, 34.51802389, 31.11789708,\n",
       "       44.30365009, 36.08828003, 38.91329943, 43.15975908, 42.9128554 ,\n",
       "       41.70664295, 42.30306725, 44.24990252, 47.49723926, 40.77512903,\n",
       "       43.51839843, 45.47301837, 47.03846211, 48.38922529, 51.7125188 ,\n",
       "       54.05215589, 49.20459756, 52.42996372, 49.0128555 , 50.71844939,\n",
       "       52.38467104, 57.66180546, 57.85104456, 56.07729476, 60.62990895,\n",
       "       59.4516708 , 59.97716811, 61.22643315, 63.60811147, 62.68423195,\n",
       "       60.82150978, 66.32484304, 64.04127227, 67.98512111, 64.38577016,\n",
       "       68.04269417, 70.9775096 , 68.34301277, 70.65955163, 74.8726291 ,\n",
       "       73.65706123, 73.98886099, 73.37174073, 75.77079667, 76.12337543,\n",
       "       81.36007486, 81.35010152, 76.959509  , 78.4609726 , 80.15528041,\n",
       "       80.33768229, 81.49864003, 85.1103961 , 87.10014154, 83.4716988 ,\n",
       "       86.44894698])"
      ]
     },
     "execution_count": 8,
     "metadata": {},
     "output_type": "execute_result"
    }
   ],
   "source": [
    "# Contém as temperaturas correspondentes em Fahrenheit, calculadas usando a fórmula de conversão. Fahrenheit = (Celsius × 1.8) + 32\n",
    "y "
   ]
  },
  {
   "cell_type": "code",
   "execution_count": 9,
   "metadata": {},
   "outputs": [
    {
     "data": {
      "text/plain": [
       "Text(0.5, 0, '°C')"
      ]
     },
     "execution_count": 9,
     "metadata": {},
     "output_type": "execute_result"
    },
    {
     "data": {
      "image/png": "[encoded data removed]",
      "text/plain": [
       "<Figure size 1000x800 with 1 Axes>"
      ]
     },
     "metadata": {},
     "output_type": "display_data"
    }
   ],
   "source": [
    "plt.scatter(x, y)  # Cria um gráfico de dispersão (scatter plot) dos pontos de x (Celsius) e y (Fahrenheit)\n",
    "plt.ylabel('°F', fontsize=20)  # Define o rótulo do eixo Y como '°F' (Fahrenheit) e ajusta o tamanho da fonte para 20\n",
    "plt.xlabel('°C', fontsize=20)  # Define o rótulo do eixo X como '°C' (Celsius) e ajusta o tamanho da fonte para 20"
   ]
  },
  {
   "cell_type": "markdown",
   "metadata": {},
   "source": [
    "# modelo"
   ]
  },
  {
   "cell_type": "markdown",
   "metadata": {},
   "source": [
    "- **Época:** Uma época é uma passagem completa por todo o conjunto de dados durante o treinamento de uma rede neural. Ou seja, em cada época, o modelo vê todo o conjunto de dados uma vez.\n",
    "    - Épocas: São o número de vezes que o modelo passa por todo o conjunto de dados durante o treinamento. \n",
    "        - A cada época, o modelo ajusta os pesos e bias para melhorar suas previsões."
   ]
  },
  {
   "cell_type": "markdown",
   "metadata": {},
   "source": [
    "- **Inicializar weights (pesos) e bias:** Define os parâmetros ajustáveis da rede com valores iniciais:\n",
    "    - weights: São os parâmetros ajustáveis da rede neural que multiplicam os inputs em cada neurônio para determinar sua ativação.\n",
    "        - w -> Inclinação da reta (variação do erro com respeito ao peso, o quanto o erro varia ao alterar o peso)\n",
    "    - Bias: É um valor constante adicionado ao resultado para ajustar o deslocamento da reta (ou curva). O bias permite que o modelo aprenda deslocamentos que não sejam centrados na origem para ajustar a ativação de forma mais flexível.\n",
    "        - b -> deslocamento da reta para cima ou para baixo no eixo y (b positivo ou negativo)\n",
    "    - y = w.x + b -> Equação da reta\n",
    "\n",
    "    - Neurônios = Perceptron\n",
    "        - Uma parte recebe as informações através da camada de entrada ou de outros neurônios, essas informações (números), serão ser somadas\n",
    "        - A parte de função de ativação pega esse valor de entrada da soma (equação da reta) e vai modelar os dados com alguma função para que essa informação seja passada para frente (feedforward) para os demais neurônios (saída)\n",
    "            - Feedforward = Alimentar a rede, informação passada da entrada para a camada escondida (onde os neurônios fazem o processamento para passar a informação até ao output) \n",
    "            - Loss = Quando a informação chega ao neurônio de saída, é feito um cálculo de erro (loss). Função de erro fará um cálculo entre o valor predito e o real esperado\n",
    "            - Backpropagation = Agora, sabendo do erro, vai atualizar a rede até voltar ao começo, calibrando a rede\n",
    "            - O térmido do ciclo é determinado através de um número de épocas (numero fixo de vezes que o ciclo ocorrerá) e tolerância (escolher uma métrica como a acurácia, medindo a porcentagem de acertos em cada um dos ciclos)  \n",
    "\n",
    "    - Rede neural muda os valores de w e b até que se encaixem o melhor possível nos pontos, cada neurônio vai criar uma equação de reta \n",
    "    ![Ciclo](Ciclo.png)\n",
    "\n",
    "    - MSE desvia da reta por causa dos outliers (os pontos fora da curva dos demais) pois eles puxam muito a reta onde eles estão concentrados no gráfico\n",
    "        - Caso nao tivesse outlier, todos teriam resultados próximos\n",
    "        - Exemplo de regressão, previsão de valores:\n",
    "    ![reta](mse-mae-huber.png)\n",
    "\n",
    "    - Learning rate -> Comum utilizar taxas maiores no inicio do treinamento e ao passar as épocas, diminuir a taxa de aprendizagem para descer até o minimo global para nao ficar pingando de um ponto ao outro (quando a perda só aumenta)\n",
    "\n",
    "    - **Funções de ativação**\n",
    "        - **Camadas ocultas:** Para redes profundas, prefira: (evitam o desvanecimento do gradiente)\n",
    "            - ReLU(Rectified Linear Unit): Ideal para camadas ocultas em redes profundas devido à sua simplicidade e eficiência. Evite para entradas com muitos valores negativos.\n",
    "            - Leaky ReLU: Alternativa ao ReLU quando você está preocupado com neurônios inativos em redes profundas.\n",
    "            - ELU(Exponential Linear Unit): Usar em redes profundas onde a suavização de entradas negativas é importante.\n",
    "                - Como o ReLU, mas com suavização para valores negativos, permitindo que a rede aprenda melhor com entradas negativas.\n",
    "                - Requer mais poder de processamento, por causa da função exponencial para entradas negativas. \n",
    "        - **Saída binária:** Use sigmoid.\n",
    "            - Usar em tarefas de classificação binária (ex: última camada de uma rede para estimar probabilidades). \n",
    "            - Problema de saturação: para entradas muito grandes ou muito pequenas, a derivada tende a zero, resultando em desvanecimento do gradiente(quando os valores ficam muito próximos de 0 ou 1). Isso pode fazer com que os pesos da rede não sejam atualizados corretamente, fazendo a rede \"parar de aprender\".\n",
    "        - **Classificação multiclasse:** Use softmax na última camada.\n",
    "            - Usar em tarefas de classificação multiclasse, geralmente na última camada. Não é usada em camadas intermediárias.\n",
    "            - Gera uma distribuição de probabilidade, com a soma das saídas sendo 1, útil para classificação multiclasse.\n",
    "        - **Tanh (Tangente hiperbólica)** pode ser útil quando a distribuição da saída precisa estar centrada em torno de zero, o que ajuda a minimizar valores negativos ou positivos excessivos.\n",
    "            - Usar em camadas ocultas quando a saída precisa ser normalizada entre -1 e 1. Geralmente melhor que a sigmoid para camadas intermediárias pois as derivadas são maiores do que na sigmoid para valores intermediários, o que pode acelerar o treinamento.\n",
    "            - Saturação semelhante à sigmoid, com gradientes pequenos para valores extremos de entrada, o que pode causar desvanecimento do gradiente(quando os valores ficam muito próximos de 0 ou 1).\n",
    "\n",
    "\n"
   ]
  },
  {
   "cell_type": "code",
   "execution_count": 10,
   "metadata": {},
   "outputs": [],
   "source": [
    "# Inicializar\n",
    "\n",
    "w = np.random.rand(1)  # Inicializa o peso como um número aleatório entre 0 e 1, o que permite que o modelo comece com pesos não iguais (evitando simetria no treinamento).\n",
    "b = 0  # Inicializa o bias com 0, dando ao modelo um ponto de partida simples, que será ajustado durante o treinamento. "
   ]
  },
  {
   "cell_type": "markdown",
   "metadata": {},
   "source": [
    "- **feedforward:** Passa os inputs pela rede para gerar uma previsão, permite à rede calcular suas previsões. A saída da rede é o resultado desse processo, que será comparado com os valores reais durante o cálculo da perda;\n",
    "    - y -> São os resultados gerados pela rede neural após o processo de feedforward. \n",
    "    - Y -> São os Valor real ou valor esperado"
   ]
  },
  {
   "cell_type": "code",
   "execution_count": 11,
   "metadata": {},
   "outputs": [],
   "source": [
    "# Aplica uma transformação linear aos inputs, multiplicando-os pelos pesos e somando o bias. Essa transformação é essencial para que a rede possa fazer previsões ou classificações\n",
    "def forward(inputs, w, b):\n",
    "    return w*inputs + b  # A rede multiplica esses inputs pelos pesos e adiciona o bias para gerar uma previsão."
   ]
  },
  {
   "cell_type": "markdown",
   "metadata": {},
   "source": [
    "- **Calcular a perda:** Avalia o quão distante a previsão está do valor real. Mede a discrepância entre as previsões da rede e os valores reais (labels). \n",
    "    - O objetivo do treinamento é minimizar a perda. Isso informa à rede como ajustar os pesos e bias para melhorar suas previsões. A função de perda é a base para o cálculo dos gradientes durante o processo de backpropagation;\n",
    "    - A função de perda é usada no treinamento do modelo para calcular quão distante estão as previsões dos valores reais. O modelo tenta minimizar essa perda ajustando os pesos e bias. "
   ]
  },
  {
   "cell_type": "code",
   "execution_count": 12,
   "metadata": {},
   "outputs": [],
   "source": [
    "# Função de perda:\n",
    "# Y -> Valor real ou valor esperado | y -> valor predito\n",
    "def mse(Y, y):  # Calcula a perda entre o valor real e o predito\n",
    "    return (Y - y)**2  # Calcula o erro quadrático"
   ]
  },
  {
   "cell_type": "markdown",
   "metadata": {},
   "source": [
    "- **Backpropagation:** Ajusta os pesos e bias para reduzir a perda, utilizando gradientes:\n",
    "    - É o processo de calcular os gradientes da função de perda em relação a cada peso e bias da rede neural, de trás para frente (a partir da camada de saída até a camada de entrada). Com esses gradientes, a rede ajusta os pesos e bias para minimizar a perda;\n",
    "    - Permite que a rede aprenda a fazer melhores previsões. Ao propagar o erro de volta pela rede, os pesos são atualizados de acordo com o quanto contribuíram para o erro final, utilizando o algoritmo de otimização (como o gradiente descendente);\n",
    "    \n",
    "    - **input** -> valores de entrada que alimentam o modelo (ex: características de um problema, como número de quartos de uma casa)\n",
    "        - x\n",
    "    - **outputs** -> valor previsto, saída\n",
    "        - y\n",
    "    - **target** -> valor real, alvo\n",
    "        - Y\n",
    "    - **learning rate** -> taxa de aprendizagem, controla o tamanho dos ajustes que são feitos nos pesos e no bias a cada iteração. Um valor de lr muito grande pode fazer o modelo \"pular\" os valores corretos, e um valor muito pequeno pode tornar o treinamento muito lento."
   ]
  },
  {
   "cell_type": "code",
   "execution_count": 13,
   "metadata": {},
   "outputs": [],
   "source": [
    "def back_propagation(inputs, outputs, targets, w, b, lr):\n",
    "    dw = lr*(-2*inputs*(targets-outputs)).mean()  # Calcula o gradiente em relação ao peso (w)\n",
    "    db = lr*(-2*(targets-outputs)).mean()  # Calcula o gradiente em relação ao bias (b)\n",
    "    \n",
    "    # Atualiza o peso (w) subtraindo o gradiente multiplicado pela taxa de aprendizado, Isso é o gradiente descendente, onde ajustamos os pesos na direção que reduz o erro\n",
    "    w -= dw  \n",
    "    # Atualiza o bias (b) subtraindo o gradiente multiplicado pela taxa de aprendizado\n",
    "    b -= db  \n",
    "    \n",
    "    return w, b"
   ]
  },
  {
   "cell_type": "code",
   "execution_count": 14,
   "metadata": {},
   "outputs": [],
   "source": [
    "# Este modelo chamará as outras funções \n",
    "def model_fit(inputs, target, w, b, epochs = 200, lr = 0.001):\n",
    "    for epoch in range(epochs):\n",
    "        \n",
    "        # Feedforward (previsão com os parâmetros atuais)\n",
    "        outputs = forward(inputs, w, b)\n",
    "        \n",
    "        # Calcula a perda comparando as predições (outputs) com os valores reais (target) \n",
    "        # A função mse (Mean Squared Error) retorna o erro para cada exemplo, e a função np.mean faz a média de todos os exemplos.\n",
    "        loss = np.mean(mse(target, outputs))\n",
    "        \n",
    "        # Atualiza os pesos e bias com backpropagation, que ajusta os parâmetros para reduzir o erro.\n",
    "        w, b = back_propagation(inputs, outputs, target, w, b, lr)\n",
    "        \n",
    "        # Visualização a cada 10% das épocas\n",
    "        if (epoch+1) % (epochs / 10) == 0:\n",
    "            print(f\"Epoch: [{(epoch+1)}/{epochs}] loss: [{loss: .4f}]\")\n",
    "        \n",
    "    return w, b  # Retorna os pesos e bias finais\n",
    " "
   ]
  },
  {
   "cell_type": "code",
   "execution_count": 15,
   "metadata": {},
   "outputs": [],
   "source": [
    "x = np.arange(-10, 10, 2)  # Gera um array 'x' com valores de -10 até 28 (incrementando de 2). Esses valores representam temperaturas em Celsius.\n",
    "Y = get_linear_curve(x, w = 1.8, b = 32)  # Aplica a função 'getLinearCurve' para calcular as temperaturas correspondentes em Fahrenheit. \n",
    "                                        # Aqui, w = 1.8 é a inclinação da reta, e b = 32 é o bias (deslocamento).\n",
    "# y = getLinearCurve(x, w = 1.8, b = 32, noise_scale=2)"
   ]
  },
  {
   "cell_type": "code",
   "execution_count": 16,
   "metadata": {},
   "outputs": [],
   "source": [
    "# Inicialização\n",
    "w = np.random.randn(1)  # Inicializa o peso 'w' com um valor aleatório de uma distribuição normal (Gaussiana), com média 0 e desvio padrão 1.\n",
    "b = np.zeros(1)  # Inicializa o bias 'b' com um valor de 0. Cria uma matriz (ou array) de tamanho 1, preenchida com zeros."
   ]
  },
  {
   "cell_type": "code",
   "execution_count": 17,
   "metadata": {},
   "outputs": [
    {
     "name": "stdout",
     "output_type": "stream",
     "text": [
      "Epoch: [200/2000] loss: [ 20.5414]\n",
      "Epoch: [400/2000] loss: [ 0.4167]\n",
      "Epoch: [600/2000] loss: [ 0.0085]\n",
      "Epoch: [800/2000] loss: [ 0.0002]\n",
      "Epoch: [1000/2000] loss: [ 0.0000]\n",
      "Epoch: [1200/2000] loss: [ 0.0000]\n",
      "Epoch: [1400/2000] loss: [ 0.0000]\n",
      "Epoch: [1600/2000] loss: [ 0.0000]\n",
      "Epoch: [1800/2000] loss: [ 0.0000]\n",
      "Epoch: [2000/2000] loss: [ 0.0000]\n",
      "w: 1.800, b: 32.000\n"
     ]
    }
   ],
   "source": [
    "w, b = model_fit(x, Y, w, b, epochs=2000, lr=0.005)  # ajusta os pesos w e b para que o modelo se ajuste da melhor forma aos dados fornecidos\n",
    "print(f\"w: {w[0]:.3f}, b: {b[0]:.3f}\")"
   ]
  },
  {
   "cell_type": "code",
   "execution_count": 18,
   "metadata": {},
   "outputs": [
    {
     "data": {
      "text/plain": [
       "[<matplotlib.lines.Line2D at 0x1a341dc1400>]"
      ]
     },
     "execution_count": 18,
     "metadata": {},
     "output_type": "execute_result"
    },
    {
     "data": {
      "image/png": "[encoded data removed]",
      "text/plain": [
       "<Figure size 1000x800 with 1 Axes>"
      ]
     },
     "metadata": {},
     "output_type": "display_data"
    }
   ],
   "source": [
    "plt.scatter(x, Y)  # Cria um gráfico de dispersão (scatter plot) com os pontos de x (Celsius) e y (Fahrenheit)\n",
    "plt.ylabel('°F', fontsize=20)  # Define o rótulo do eixo Y como '°F' (Fahrenheit) e ajusta o tamanho da fonte para 20\n",
    "plt.xlabel('°C', fontsize=20)  # Define o rótulo do eixo X como '°C' (Celsius) e ajusta o tamanho da fonte para 20\n",
    "plt.plot(x, get_linear_curve(x, w, b), \"r\", lw=3)  # Desenha uma linha com os valores gerados pela função get_linear_curve usando w (peso/inclinação) e b (bias/deslocamento) ajustados"
   ]
  }
 ],
 "metadata": {
  "kernelspec": {
   "display_name": "Python 3",
   "language": "python",
   "name": "python3"
  },
  "language_info": {
   "codemirror_mode": {
    "name": "ipython",
    "version": 3
   },
   "file_extension": ".py",
   "mimetype": "text/x-python",
   "name": "python",
   "nbconvert_exporter": "python",
   "pygments_lexer": "ipython3",
   "version": "3.12.1"
  }
 },
 "nbformat": 4,
 "nbformat_minor": 2
}
